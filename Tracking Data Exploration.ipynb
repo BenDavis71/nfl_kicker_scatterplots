{
 "cells": [
  {
   "cell_type": "code",
   "execution_count": null,
   "id": "b2a77847",
   "metadata": {},
   "outputs": [],
   "source": [
    "import pandas as pd\n",
    "import numpy as np"
   ]
  },
  {
   "cell_type": "code",
   "execution_count": null,
   "id": "869a8de0",
   "metadata": {},
   "outputs": [],
   "source": [
    "# read in all tracking data\n",
    "df = pd.concat([pd.read_csv('tracking2018.csv.zip'),\n",
    "                    pd.read_csv('tracking2019.csv.zip'),\n",
    "                    pd.read_csv('tracking2020.csv.zip')],\n",
    "                    ignore_index=True)\n",
    "df"
   ]
  },
  {
   "cell_type": "code",
   "execution_count": null,
   "id": "6a208af3",
   "metadata": {},
   "outputs": [],
   "source": [
    "# determine possible events\n",
    "df['event'].unique()"
   ]
  },
  {
   "cell_type": "code",
   "execution_count": null,
   "id": "1fc4edf3",
   "metadata": {},
   "outputs": [],
   "source": [
    "# whittle down tracking data to only show the kicker at time of field goal attempt and at time of made field goal\n",
    "df = df[((df['event']=='field_goal') | (df['event']=='field_goal_attempt')) & (df['position']=='K')]\n",
    "df"
   ]
  },
  {
   "cell_type": "code",
   "execution_count": null,
   "id": "c69105ea",
   "metadata": {},
   "outputs": [],
   "source": [
    "# create a globally unique playID\n",
    "df['compositePlayId'] = df['gameId'].astype(str) + '-' + df['playId'].astype(str)\n",
    "df"
   ]
  },
  {
   "cell_type": "code",
   "execution_count": null,
   "id": "ac64fee4",
   "metadata": {},
   "outputs": [],
   "source": [
    "# add an identifier to note whether a field goal attempt was successful or not\n",
    "# whittle down tracking data to only the moment of field goal attempts\n",
    "\n",
    "madeFieldGoals = df[df['event']=='field_goal']['compositePlayId'].tolist()\n",
    "\n",
    "df = df[df['event']=='field_goal_attempt'].reset_index(drop=True)\n",
    "\n",
    "df['made'] = np.where(df['compositePlayId'].isin(madeFieldGoals),1,0)\n",
    "\n",
    "df"
   ]
  },
  {
   "cell_type": "code",
   "execution_count": null,
   "id": "86e1f076",
   "metadata": {},
   "outputs": [],
   "source": [
    "# create a year column for easy filtering\n",
    "df['year'] = df['time'].apply(lambda x: x[:4])\n",
    "df"
   ]
  },
  {
   "cell_type": "code",
   "execution_count": null,
   "id": "c2335159",
   "metadata": {},
   "outputs": [],
   "source": [
    "# adjust tracking coordinates to match the 3d football field made earlier in matplotlib\n",
    "# depending on direction, we need to change x's origin to be one of the goal lines\n",
    "# and we need to change y's origin to be the center of the field\n",
    "# y also needs a compensatory figure (1 or 1.25, chosen very arbritarily by observation of limited film) to\n",
    "# offset the distance from the kicker to the ball; we also cap the distance to be the hash mark boundary of +-3.083\n",
    "# we also need to switch x and y\n",
    "\n",
    "df['x'] = np.where(df['dir'] >= 180, df['x'] - 10, 110 - df['x'])\n",
    "df['y'] = np.where(df['dir'] >= 180, (53.3 / 2) - 1.25 - df['y'], (53.3 / 2) + 1.5 - df['y'])\n",
    "df['y'] = np.clip(df['y'], a_max=3.25, a_min=-3.25)\n",
    "df['x'], df['y'] = df['y'], df['x']\n",
    "df"
   ]
  },
  {
   "cell_type": "code",
   "execution_count": null,
   "id": "f54227dd",
   "metadata": {
    "scrolled": false
   },
   "outputs": [],
   "source": [
    "# weed out kicks that have an incorrect y distance\n",
    "# these are known by the fact that the dis and o columns are vastly different from one another\n",
    "# and the kicks are impossibly long\n",
    "# we could alternatively keep them in the dataset and correct them\n",
    "# but I'm worried about data quality, and there are only a handful of these kicks\n",
    "\n",
    "df = df[~((df['y']>50) & (abs(df['o'] - df['dir']) > 150))]\n",
    "df"
   ]
  },
  {
   "cell_type": "code",
   "execution_count": null,
   "id": "e32f14cf",
   "metadata": {},
   "outputs": [],
   "source": [
    "# only retain columns we need\n",
    "df = df[['x','y','made','displayName','jerseyNumber','time','year',]]\n",
    "df"
   ]
  },
  {
   "cell_type": "code",
   "execution_count": null,
   "id": "ee49dc15",
   "metadata": {},
   "outputs": [],
   "source": [
    "# write to csv\n",
    "df.to_csv('field_goal_coordinates.csv.gz', compression='gzip', index = False)"
   ]
  },
  {
   "cell_type": "code",
   "execution_count": null,
   "id": "c4399b6b",
   "metadata": {},
   "outputs": [],
   "source": []
  }
 ],
 "metadata": {
  "kernelspec": {
   "display_name": "Python 3 (ipykernel)",
   "language": "python",
   "name": "python3"
  },
  "language_info": {
   "codemirror_mode": {
    "name": "ipython",
    "version": 3
   },
   "file_extension": ".py",
   "mimetype": "text/x-python",
   "name": "python",
   "nbconvert_exporter": "python",
   "pygments_lexer": "ipython3",
   "version": "3.9.12"
  }
 },
 "nbformat": 4,
 "nbformat_minor": 5
}
